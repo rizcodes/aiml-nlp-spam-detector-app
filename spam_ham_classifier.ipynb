{
 "cells": [
  {
   "cell_type": "markdown",
   "metadata": {},
   "source": [
    "## Problem Statement\n",
    "#### Create a classifier to tell whether a SMS message is spam or ham\n",
    "\n",
    "ML Framework: Scikit-learn\n",
    "Algorithm: Decision Tree\n",
    "\n",
    "##### Why this frame-work and model is choose?\n",
    "The KISS principle in machine learning - Simple solutions are to be preferred, while unnecessary complexity should be avoided. In machine learning its good to start with simple models, if required/neccessary we can work upwards towards complicated ones.\n",
    "\n",
    "Models used:\n",
    "+ Non-Linear alorithm: Decision Tree\n",
    "+ Naive algorithm: Naive Bayes\n",
    "+ Ensemble algorithm: Balanced Bagging Classifier"
   ]
  },
  {
   "cell_type": "code",
   "execution_count": 1,
   "metadata": {},
   "outputs": [],
   "source": [
    "# Import required modules\n",
    "\n",
    "import os\n",
    "import nltk\n",
    "import platform\n",
    "import chardet\n",
    "import pickle\n",
    "import pandas as pd\n",
    "import numpy as np\n",
    "from nltk.tokenize import RegexpTokenizer\n",
    "from nltk.corpus import stopwords\n",
    "from nltk.stem import PorterStemmer\n",
    "from sklearn import preprocessing\n",
    "from sklearn.model_selection import train_test_split\n",
    "from sklearn.feature_extraction.text import TfidfVectorizer\n",
    "from sklearn.tree import DecisionTreeClassifier\n",
    "from sklearn.naive_bayes import MultinomialNB\n",
    "from imblearn.ensemble import BalancedBaggingClassifier\n",
    "from sklearn.metrics import classification_report, confusion_matrix"
   ]
  },
  {
   "cell_type": "markdown",
   "metadata": {},
   "source": [
    "### Data Setup\n",
    "Creating dataset for processing"
   ]
  },
  {
   "cell_type": "code",
   "execution_count": 2,
   "metadata": {},
   "outputs": [],
   "source": [
    "# Initialize system dir path\n",
    "\n",
    "system_env = platform.system().lower()\n",
    "if system_env == 'linux':\n",
    "    BASE_DIR = '/tmp/nlp_spam_ham'\n",
    "else:\n",
    "    BASE_DIR = 'C:\\nlp_spam_ham'\n",
    "\n",
    "os.makedirs(BASE_DIR, mode=0o777, exist_ok=True)"
   ]
  },
  {
   "cell_type": "code",
   "execution_count": 3,
   "metadata": {},
   "outputs": [
    {
     "name": "stdout",
     "output_type": "stream",
     "text": [
      "--2021-01-24 21:30:19--  https://rizcodes-aiml.s3.us-east-2.amazonaws.com/public/spam.csv\n",
      "Resolving rizcodes-aiml.s3.us-east-2.amazonaws.com (rizcodes-aiml.s3.us-east-2.amazonaws.com)... 52.219.100.232\n",
      "Connecting to rizcodes-aiml.s3.us-east-2.amazonaws.com (rizcodes-aiml.s3.us-east-2.amazonaws.com)|52.219.100.232|:443... connected.\n",
      "HTTP request sent, awaiting response... 200 OK\n",
      "Length: 503663 (492K) [text/csv]\n",
      "Saving to: ‘spam.csv’\n",
      "\n",
      "spam.csv            100%[===================>] 491.86K   527KB/s    in 0.9s    \n",
      "\n",
      "2021-01-24 21:30:21 (527 KB/s) - ‘spam.csv’ saved [503663/503663]\n",
      "\n"
     ]
    },
    {
     "data": {
      "text/plain": [
       "['spam.csv']"
      ]
     },
     "execution_count": 3,
     "metadata": {},
     "output_type": "execute_result"
    }
   ],
   "source": [
    "# Change directory and download the dataset\n",
    "\n",
    "os.chdir(BASE_DIR)\n",
    "!wget https://rizcodes-aiml.s3.us-east-2.amazonaws.com/public/spam.csv\n",
    "os.listdir()"
   ]
  },
  {
   "cell_type": "code",
   "execution_count": 4,
   "metadata": {},
   "outputs": [
    {
     "name": "stdout",
     "output_type": "stream",
     "text": [
      "{'encoding': 'Windows-1252', 'confidence': 0.7270322499829184, 'language': ''}\n"
     ]
    },
    {
     "data": {
      "text/html": [
       "<div>\n",
       "<style scoped>\n",
       "    .dataframe tbody tr th:only-of-type {\n",
       "        vertical-align: middle;\n",
       "    }\n",
       "\n",
       "    .dataframe tbody tr th {\n",
       "        vertical-align: top;\n",
       "    }\n",
       "\n",
       "    .dataframe thead th {\n",
       "        text-align: right;\n",
       "    }\n",
       "</style>\n",
       "<table border=\"1\" class=\"dataframe\">\n",
       "  <thead>\n",
       "    <tr style=\"text-align: right;\">\n",
       "      <th></th>\n",
       "      <th>v1</th>\n",
       "      <th>v2</th>\n",
       "      <th>Unnamed: 2</th>\n",
       "      <th>Unnamed: 3</th>\n",
       "      <th>Unnamed: 4</th>\n",
       "    </tr>\n",
       "  </thead>\n",
       "  <tbody>\n",
       "    <tr>\n",
       "      <th>0</th>\n",
       "      <td>ham</td>\n",
       "      <td>Go until jurong point, crazy.. Available only ...</td>\n",
       "      <td>NaN</td>\n",
       "      <td>NaN</td>\n",
       "      <td>NaN</td>\n",
       "    </tr>\n",
       "    <tr>\n",
       "      <th>1</th>\n",
       "      <td>ham</td>\n",
       "      <td>Ok lar... Joking wif u oni...</td>\n",
       "      <td>NaN</td>\n",
       "      <td>NaN</td>\n",
       "      <td>NaN</td>\n",
       "    </tr>\n",
       "    <tr>\n",
       "      <th>2</th>\n",
       "      <td>spam</td>\n",
       "      <td>Free entry in 2 a wkly comp to win FA Cup fina...</td>\n",
       "      <td>NaN</td>\n",
       "      <td>NaN</td>\n",
       "      <td>NaN</td>\n",
       "    </tr>\n",
       "    <tr>\n",
       "      <th>3</th>\n",
       "      <td>ham</td>\n",
       "      <td>U dun say so early hor... U c already then say...</td>\n",
       "      <td>NaN</td>\n",
       "      <td>NaN</td>\n",
       "      <td>NaN</td>\n",
       "    </tr>\n",
       "    <tr>\n",
       "      <th>4</th>\n",
       "      <td>ham</td>\n",
       "      <td>Nah I don't think he goes to usf, he lives aro...</td>\n",
       "      <td>NaN</td>\n",
       "      <td>NaN</td>\n",
       "      <td>NaN</td>\n",
       "    </tr>\n",
       "  </tbody>\n",
       "</table>\n",
       "</div>"
      ],
      "text/plain": [
       "     v1                                                 v2 Unnamed: 2  \\\n",
       "0   ham  Go until jurong point, crazy.. Available only ...        NaN   \n",
       "1   ham                      Ok lar... Joking wif u oni...        NaN   \n",
       "2  spam  Free entry in 2 a wkly comp to win FA Cup fina...        NaN   \n",
       "3   ham  U dun say so early hor... U c already then say...        NaN   \n",
       "4   ham  Nah I don't think he goes to usf, he lives aro...        NaN   \n",
       "\n",
       "  Unnamed: 3 Unnamed: 4  \n",
       "0        NaN        NaN  \n",
       "1        NaN        NaN  \n",
       "2        NaN        NaN  \n",
       "3        NaN        NaN  \n",
       "4        NaN        NaN  "
      ]
     },
     "execution_count": 4,
     "metadata": {},
     "output_type": "execute_result"
    }
   ],
   "source": [
    "# Read dataset as DataFrame\n",
    "\n",
    "DATA_CSV = os.path.join(BASE_DIR, 'spam.csv')\n",
    "\n",
    "# Detect Character encoding\n",
    "with open(DATA_CSV, 'rb') as f:\n",
    "    char_encoding = chardet.detect(f.read(100000))\n",
    "print (char_encoding)\n",
    "\n",
    "# Create DataFrame\n",
    "df = pd.read_csv(DATA_CSV, encoding=char_encoding.get('encoding'))\n",
    "df.head()"
   ]
  },
  {
   "cell_type": "code",
   "execution_count": 5,
   "metadata": {},
   "outputs": [
    {
     "data": {
      "text/html": [
       "<div>\n",
       "<style scoped>\n",
       "    .dataframe tbody tr th:only-of-type {\n",
       "        vertical-align: middle;\n",
       "    }\n",
       "\n",
       "    .dataframe tbody tr th {\n",
       "        vertical-align: top;\n",
       "    }\n",
       "\n",
       "    .dataframe thead th {\n",
       "        text-align: right;\n",
       "    }\n",
       "</style>\n",
       "<table border=\"1\" class=\"dataframe\">\n",
       "  <thead>\n",
       "    <tr style=\"text-align: right;\">\n",
       "      <th></th>\n",
       "      <th>label</th>\n",
       "      <th>data</th>\n",
       "    </tr>\n",
       "  </thead>\n",
       "  <tbody>\n",
       "    <tr>\n",
       "      <th>0</th>\n",
       "      <td>ham</td>\n",
       "      <td>Go until jurong point, crazy.. Available only ...</td>\n",
       "    </tr>\n",
       "    <tr>\n",
       "      <th>1</th>\n",
       "      <td>ham</td>\n",
       "      <td>Ok lar... Joking wif u oni...</td>\n",
       "    </tr>\n",
       "    <tr>\n",
       "      <th>2</th>\n",
       "      <td>spam</td>\n",
       "      <td>Free entry in 2 a wkly comp to win FA Cup fina...</td>\n",
       "    </tr>\n",
       "    <tr>\n",
       "      <th>3</th>\n",
       "      <td>ham</td>\n",
       "      <td>U dun say so early hor... U c already then say...</td>\n",
       "    </tr>\n",
       "    <tr>\n",
       "      <th>4</th>\n",
       "      <td>ham</td>\n",
       "      <td>Nah I don't think he goes to usf, he lives aro...</td>\n",
       "    </tr>\n",
       "  </tbody>\n",
       "</table>\n",
       "</div>"
      ],
      "text/plain": [
       "  label                                               data\n",
       "0   ham  Go until jurong point, crazy.. Available only ...\n",
       "1   ham                      Ok lar... Joking wif u oni...\n",
       "2  spam  Free entry in 2 a wkly comp to win FA Cup fina...\n",
       "3   ham  U dun say so early hor... U c already then say...\n",
       "4   ham  Nah I don't think he goes to usf, he lives aro..."
      ]
     },
     "execution_count": 5,
     "metadata": {},
     "output_type": "execute_result"
    }
   ],
   "source": [
    "# Clean the Data\n",
    "\n",
    "df.dropna(axis='columns', inplace=True)\n",
    "df.columns = [\"label\", \"data\"]\n",
    "df.head()"
   ]
  },
  {
   "cell_type": "code",
   "execution_count": 6,
   "metadata": {},
   "outputs": [
    {
     "name": "stdout",
     "output_type": "stream",
     "text": [
      "<class 'pandas.core.frame.DataFrame'>\n",
      "RangeIndex: 5572 entries, 0 to 5571\n",
      "Data columns (total 2 columns):\n",
      " #   Column  Non-Null Count  Dtype \n",
      "---  ------  --------------  ----- \n",
      " 0   label   5572 non-null   int64 \n",
      " 1   data    5572 non-null   object\n",
      "dtypes: int64(1), object(1)\n",
      "memory usage: 87.2+ KB\n"
     ]
    }
   ],
   "source": [
    "# Encode the labels\n",
    "\n",
    "df.replace({'label': {'ham': 0, 'spam': 1}}, inplace=True)\n",
    "df.info()"
   ]
  },
  {
   "cell_type": "code",
   "execution_count": 7,
   "metadata": {},
   "outputs": [
    {
     "name": "stdout",
     "output_type": "stream",
     "text": [
      "Num of ham samples: 4825\n",
      "Num of spam samples: 747\n"
     ]
    },
    {
     "data": {
      "text/plain": [
       "array([[<AxesSubplot:title={'center':'label'}>]], dtype=object)"
      ]
     },
     "execution_count": 7,
     "metadata": {},
     "output_type": "execute_result"
    },
    {
     "data": {
      "image/png": "[encoded data removed]",
      "text/plain": [
       "<Figure size 432x288 with 1 Axes>"
      ]
     },
     "metadata": {
      "needs_background": "light"
     },
     "output_type": "display_data"
    }
   ],
   "source": [
    "num_ham = df[df.label == 0].data.count()\n",
    "num_spam = df[df.label == 1].data.count()\n",
    "print (f'Num of ham samples: {num_ham}\\nNum of spam samples: {num_spam}')\n",
    "df.hist()"
   ]
  },
  {
   "cell_type": "markdown",
   "metadata": {},
   "source": [
    "### Text Processing\n",
    "Cleaning and text processing\n",
    "+ Eliminate unnecessary characters\n",
    "+ Tokenize\n",
    "+ Normalization - Stemming"
   ]
  },
  {
   "cell_type": "code",
   "execution_count": 8,
   "metadata": {},
   "outputs": [
    {
     "name": "stdout",
     "output_type": "stream",
     "text": [
      "showing info https://raw.githubusercontent.com/nltk/nltk_data/gh-pages/index.xml\n"
     ]
    },
    {
     "data": {
      "text/plain": [
       "['The', 'Fulton', 'County', 'Grand', 'Jury', 'said', ...]"
      ]
     },
     "execution_count": 8,
     "metadata": {},
     "output_type": "execute_result"
    }
   ],
   "source": [
    "# Download nltk libraries\n",
    "\n",
    "nltk.download()\n",
    "from nltk.corpus import brown\n",
    "brown.words()"
   ]
  },
  {
   "cell_type": "code",
   "execution_count": 9,
   "metadata": {},
   "outputs": [],
   "source": [
    "# Normalize the message data\n",
    "\n",
    "# Get messages\n",
    "messages = df.data.to_list()\n",
    "# Tokenizer and remove all special charaters\n",
    "tokenizer = RegexpTokenizer(r'\\w+')\n",
    "# Stemmer\n",
    "stemmer = PorterStemmer()\n",
    "# Get stopwords\n",
    "stop_words = set(stopwords.words('english'))\n",
    "\n",
    "\n",
    "def normalize_text(msg):\n",
    "    norm_msg = []\n",
    "    sentence = tokenizer.tokenize(msg)\n",
    "    for word in sentence:\n",
    "        if (word in stop_words) or (word.isspace()) or (word==''):\n",
    "            continue\n",
    "        s_word = stemmer.stem(word)\n",
    "        norm_msg.append(s_word)\n",
    "    return \" \".join(norm_msg)\n",
    "\n",
    "final_data = [normalize_text(msg) for msg in messages]"
   ]
  },
  {
   "cell_type": "code",
   "execution_count": 10,
   "metadata": {},
   "outputs": [
    {
     "data": {
      "text/html": [
       "<div>\n",
       "<style scoped>\n",
       "    .dataframe tbody tr th:only-of-type {\n",
       "        vertical-align: middle;\n",
       "    }\n",
       "\n",
       "    .dataframe tbody tr th {\n",
       "        vertical-align: top;\n",
       "    }\n",
       "\n",
       "    .dataframe thead th {\n",
       "        text-align: right;\n",
       "    }\n",
       "</style>\n",
       "<table border=\"1\" class=\"dataframe\">\n",
       "  <thead>\n",
       "    <tr style=\"text-align: right;\">\n",
       "      <th></th>\n",
       "      <th>label</th>\n",
       "      <th>messages</th>\n",
       "    </tr>\n",
       "  </thead>\n",
       "  <tbody>\n",
       "    <tr>\n",
       "      <th>0</th>\n",
       "      <td>0</td>\n",
       "      <td>Go jurong point crazi avail bugi n great world...</td>\n",
       "    </tr>\n",
       "    <tr>\n",
       "      <th>1</th>\n",
       "      <td>0</td>\n",
       "      <td>Ok lar joke wif u oni</td>\n",
       "    </tr>\n",
       "    <tr>\n",
       "      <th>2</th>\n",
       "      <td>1</td>\n",
       "      <td>free entri 2 wkli comp win FA cup final tkt 21...</td>\n",
       "    </tr>\n",
       "    <tr>\n",
       "      <th>3</th>\n",
       "      <td>0</td>\n",
       "      <td>U dun say earli hor U c alreadi say</td>\n",
       "    </tr>\n",
       "    <tr>\n",
       "      <th>4</th>\n",
       "      <td>0</td>\n",
       "      <td>nah I think goe usf live around though</td>\n",
       "    </tr>\n",
       "  </tbody>\n",
       "</table>\n",
       "</div>"
      ],
      "text/plain": [
       "   label                                           messages\n",
       "0      0  Go jurong point crazi avail bugi n great world...\n",
       "1      0                              Ok lar joke wif u oni\n",
       "2      1  free entri 2 wkli comp win FA cup final tkt 21...\n",
       "3      0                U dun say earli hor U c alreadi say\n",
       "4      0             nah I think goe usf live around though"
      ]
     },
     "execution_count": 10,
     "metadata": {},
     "output_type": "execute_result"
    }
   ],
   "source": [
    "# Update the normalized data into DataFrame\n",
    "\n",
    "df['messages'] = final_data\n",
    "df.drop(columns=['data'], inplace=True)\n",
    "df.head()"
   ]
  },
  {
   "cell_type": "markdown",
   "metadata": {},
   "source": [
    "### Deploy Machine learning models\n",
    "+ Decision tree\n",
    "+ Naive Bayes\n",
    "+ Balanced bagging classifier"
   ]
  },
  {
   "cell_type": "code",
   "execution_count": 11,
   "metadata": {},
   "outputs": [
    {
     "data": {
      "text/plain": [
       "((4736,), (836,))"
      ]
     },
     "execution_count": 11,
     "metadata": {},
     "output_type": "execute_result"
    }
   ],
   "source": [
    "# Splitting Train and Test data\n",
    "\n",
    "X = df.messages\n",
    "y = df.label\n",
    "X_train, X_test, y_train, y_test = train_test_split(X, y, test_size=0.15, random_state=42)\n",
    "X_train.shape, X_test.shape"
   ]
  },
  {
   "cell_type": "code",
   "execution_count": 12,
   "metadata": {},
   "outputs": [
    {
     "data": {
      "text/plain": [
       "((4736, 6728), (836, 6728))"
      ]
     },
     "execution_count": 12,
     "metadata": {},
     "output_type": "execute_result"
    }
   ],
   "source": [
    "# Vectorize the features\n",
    "\n",
    "vectorizer = TfidfVectorizer()\n",
    "train_vectors = vectorizer.fit_transform(X_train)\n",
    "test_vectors = vectorizer.transform(X_test)\n",
    "\n",
    "train_vectors.shape, test_vectors.shape"
   ]
  },
  {
   "cell_type": "code",
   "execution_count": 13,
   "metadata": {},
   "outputs": [
    {
     "name": "stdout",
     "output_type": "stream",
     "text": [
      "Decision Tree Accuracy: 97.36842105263158\n",
      "\n",
      "Precision-Recall-F1_Score:\n",
      "              precision    recall  f1-score   support\n",
      "\n",
      "           0       0.98      0.99      0.98       728\n",
      "           1       0.91      0.88      0.90       108\n",
      "\n",
      "    accuracy                           0.97       836\n",
      "   macro avg       0.95      0.93      0.94       836\n",
      "weighted avg       0.97      0.97      0.97       836\n",
      "\n",
      "\n",
      "Confusion matrix:\n",
      " [[719   9]\n",
      " [ 13  95]]\n"
     ]
    }
   ],
   "source": [
    "# ML non-linear algorithm - DecisionTree\n",
    "\n",
    "# Train data\n",
    "model_dt = DecisionTreeClassifier()\n",
    "model_dt.fit(train_vectors, y_train)\n",
    "\n",
    "# Predict test data\n",
    "y_pred_dt = model_dt.predict(test_vectors)\n",
    "\n",
    "# Model metrics\n",
    "model_accuracy_score_dt = model_dt.score(test_vectors, y_test)\n",
    "print (f'Decision Tree Accuracy: {model_accuracy_score_dt * 100}')\n",
    "print (f'\\nPrecision-Recall-F1_Score:\\n{classification_report(y_test,y_pred_dt)}')\n",
    "print (f'\\nConfusion matrix:\\n {confusion_matrix(y_test,y_pred_dt)}')"
   ]
  },
  {
   "cell_type": "code",
   "execution_count": 14,
   "metadata": {},
   "outputs": [
    {
     "name": "stdout",
     "output_type": "stream",
     "text": [
      "Naive Bayes Accuracy: 97.24880382775119\n",
      "\n",
      "Precision-Recall-F1_Score:\n",
      "              precision    recall  f1-score   support\n",
      "\n",
      "           0       0.97      1.00      0.98       728\n",
      "           1       1.00      0.79      0.88       108\n",
      "\n",
      "    accuracy                           0.97       836\n",
      "   macro avg       0.98      0.89      0.93       836\n",
      "weighted avg       0.97      0.97      0.97       836\n",
      "\n",
      "\n",
      "Confusion matrix:\n",
      " [[728   0]\n",
      " [ 23  85]]\n"
     ]
    }
   ],
   "source": [
    "# ML naive algorithm - Naive Bayes\n",
    "\n",
    "# Train data\n",
    "model_nb = MultinomialNB()\n",
    "model_nb.fit(train_vectors, y_train)\n",
    "\n",
    "# Predict test data\n",
    "y_pred_nb = model_nb.predict(test_vectors)\n",
    "\n",
    "# Model metrics\n",
    "model_accuracy_score_nb = model_nb.score(test_vectors, y_test)\n",
    "print (f'Naive Bayes Accuracy: {model_accuracy_score_nb * 100}')\n",
    "print (f'\\nPrecision-Recall-F1_Score:\\n{classification_report(y_test,y_pred_nb)}')\n",
    "print (f'\\nConfusion matrix:\\n {confusion_matrix(y_test,y_pred_nb)}')"
   ]
  },
  {
   "cell_type": "code",
   "execution_count": 15,
   "metadata": {},
   "outputs": [
    {
     "name": "stdout",
     "output_type": "stream",
     "text": [
      "BalancedBaggingClassifier Accuracy: 94.97607655502392\n",
      "\n",
      "Precision-Recall-F1_Score:\n",
      "              precision    recall  f1-score   support\n",
      "\n",
      "           0       0.98      0.96      0.97       728\n",
      "           1       0.76      0.89      0.82       108\n",
      "\n",
      "    accuracy                           0.95       836\n",
      "   macro avg       0.87      0.92      0.90       836\n",
      "weighted avg       0.95      0.95      0.95       836\n",
      "\n",
      "\n",
      "Confusion matrix:\n",
      " [[698  30]\n",
      " [ 12  96]]\n"
     ]
    }
   ],
   "source": [
    "# Imbalanced dataset handling - BalancedBagging using DT (Ensemble)\n",
    "\n",
    "model_bbc = BalancedBaggingClassifier(base_estimator=DecisionTreeClassifier(),\n",
    "                                      sampling_strategy='auto',\n",
    "                                      replacement=False,\n",
    "                                      random_state=0)\n",
    "model_bbc.fit(train_vectors, y_train)\n",
    "y_pred_bbc = model_bbc.predict(test_vectors)\n",
    "\n",
    "# Model metrics\n",
    "model_accuracy_score_bbc = model_bbc.score(test_vectors, y_test)\n",
    "print (f'BalancedBaggingClassifier Accuracy: {model_accuracy_score_bbc * 100}')\n",
    "print (f'\\nPrecision-Recall-F1_Score:\\n{classification_report(y_test,y_pred_bbc)}')\n",
    "print (f'\\nConfusion matrix:\\n {confusion_matrix(y_test,y_pred_bbc)}')"
   ]
  },
  {
   "cell_type": "markdown",
   "metadata": {},
   "source": [
    "### Conclusion:\n",
    "+ Though all models have good accuray, after observing the f1-score\n",
    "+ Decision-Tree classifier has better metrics compared to other two\n",
    "+ Naive-bayes: Sufferred recall due to its more false-negatives\n",
    "+ BalanceBaggingClassifier: Suffered precision due to its more false-positives"
   ]
  },
  {
   "cell_type": "code",
   "execution_count": 16,
   "metadata": {},
   "outputs": [],
   "source": [
    "# Test the data with the trained model\n",
    "model = model_dt\n",
    "\n",
    "def decode_label(num):\n",
    "    \"\"\"Returns the message label value as string\n",
    "    \"\"\"\n",
    "    if num == 1:\n",
    "        return 'spam'\n",
    "    return 'ham'\n",
    "\n",
    "def predict_message(raw_data):\n",
    "    \"\"\"Classifies the incoming message as either 'ham' or 'spam'\n",
    "    \"\"\"\n",
    "    raw_input = {'data': [raw_data]}\n",
    "    df_input = pd.DataFrame(raw_input)\n",
    "    data_input = df_input.data\n",
    "    feature_vector = vectorizer.transform(data_input)\n",
    "    predicted_label = model.predict(feature_vector)\n",
    "    \n",
    "    return decode_label(int(predicted_label[0]))"
   ]
  },
  {
   "cell_type": "code",
   "execution_count": 17,
   "metadata": {},
   "outputs": [
    {
     "name": "stdout",
     "output_type": "stream",
     "text": [
      "Test Message: you won guarante å 1000 cash å 2000 prize To claim yr prize call custom servic repres\n",
      "Prediction: spam\n",
      "Expected: spam\n"
     ]
    }
   ],
   "source": [
    "# Test a random message\n",
    "i = np.random.randint(500)\n",
    "input_data = X_test.iloc[i]\n",
    "y_hat = predict_message(input_data)\n",
    "print(f'Test Message: {input_data}\\nPrediction: {y_hat}\\nExpected: {decode_label(y_test.iloc[i])}')"
   ]
  },
  {
   "cell_type": "code",
   "execution_count": 18,
   "metadata": {},
   "outputs": [],
   "source": [
    "# Save the model and vectorizer\n",
    "\n",
    "model_file_name = 'dt_model.pkl'\n",
    "tfidf_file_name = 'tfidf.pkl'\n",
    "pickle.dump(model, open(model_file_name, 'wb'))\n",
    "pickle.dump(vectorizer, open(tfidf_file_name, 'wb'))"
   ]
  },
  {
   "cell_type": "code",
   "execution_count": 19,
   "metadata": {},
   "outputs": [],
   "source": [
    "# Load the model from file\n",
    "\n",
    "# loaded_model = pickle.load(open(filename, 'rb'))"
   ]
  },
  {
   "cell_type": "code",
   "execution_count": null,
   "metadata": {},
   "outputs": [],
   "source": []
  },
  {
   "cell_type": "markdown",
   "metadata": {},
   "source": [
    "# "
   ]
  }
 ],
 "metadata": {
  "kernelspec": {
   "display_name": "aiml",
   "language": "python",
   "name": "aiml"
  },
  "language_info": {
   "codemirror_mode": {
    "name": "ipython",
    "version": 3
   },
   "file_extension": ".py",
   "mimetype": "text/x-python",
   "name": "python",
   "nbconvert_exporter": "python",
   "pygments_lexer": "ipython3",
   "version": "3.8.3"
  }
 },
 "nbformat": 4,
 "nbformat_minor": 4
}
